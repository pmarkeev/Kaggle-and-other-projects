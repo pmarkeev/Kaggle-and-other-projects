{
 "cells": [
  {
   "cell_type": "code",
   "execution_count": 48,
   "metadata": {},
   "outputs": [],
   "source": [
    "import re\n",
    "import numpy as np\n",
    "from PIL import Image\n",
    "import matplotlib.pyplot as plt\n",
    "import os\n",
    "from math import floor"
   ]
  },
  {
   "cell_type": "code",
   "execution_count": 49,
   "metadata": {},
   "outputs": [],
   "source": [
    "#Input the path of the Scan folder here\n",
    "upperFolder = r'C:\\Users\\MarkeevP\\Desktop\\PEEM\\MoSe2 on Au, Pent 20 nm, 0920\\Long Term measurement_201007_175520\\uncovered_FOV19_EEF50meV_6x37s_201008_010701'\n",
    "folder = upperFolder+\"\\\\Scan\""
   ]
  },
  {
   "cell_type": "code",
   "execution_count": 50,
   "metadata": {},
   "outputs": [],
   "source": [
    "#replace with name of DAT File\n",
    "datFile = folder + \"\\\\uncovered_FOV19_EEF50meV_6x37s.DAT\""
   ]
  },
  {
   "cell_type": "code",
   "execution_count": 51,
   "metadata": {},
   "outputs": [],
   "source": [
    "#Analyze DAT File: File Names and Number of Scans\n",
    "energies = []\n",
    "files = []\n",
    "filePattern = r\"\\\".*\\.TIF\\\"\"\n",
    "for line in open(datFile,\"r\"):\n",
    "    if \"AXIS_N =\" in line:\n",
    "        lineItems = line.split()\n",
    "        numberOfImagesPerScan = int(lineItems[-1])\n",
    "    if \"TIF\" in line:\n",
    "        lineItems = line.split()\n",
    "        energies.append(float(lineItems[0]))\n",
    "        m = re.search(filePattern, line)\n",
    "        files.append((m.group(0)[1:-1]))"
   ]
  },
  {
   "cell_type": "code",
   "execution_count": 52,
   "metadata": {},
   "outputs": [],
   "source": [
    "#Create output folder for difference images\n",
    "directory = \"diffImagesCalculated\"\n",
    "if not os.path.exists(folder+\"/\"+directory):\n",
    "    os.makedirs(folder+\"/\"+directory)"
   ]
  },
  {
   "cell_type": "code",
   "execution_count": 53,
   "metadata": {},
   "outputs": [],
   "source": [
    "#read images\n",
    "images = []\n",
    "for f in files:\n",
    "    fullName = folder+\"/\"+f\n",
    "    try:\n",
    "        im = Image.open(fullName)\n",
    "        imarray = np.array(im, \"int64\")\n",
    "        images.append(imarray)\n",
    "    except IOError:\n",
    "        print(\"Could not read all files\")\n",
    "        break"
   ]
  },
  {
   "cell_type": "code",
   "execution_count": 54,
   "metadata": {},
   "outputs": [],
   "source": [
    "#sum images\n",
    "fullScans = int(floor(len(images)/numberOfImagesPerScan))\n",
    "images_summed = []\n",
    "for i in range(len(images)):\n",
    "    if i > numberOfImagesPerScan*fullScans-1:\n",
    "        break\n",
    "    if i<numberOfImagesPerScan:\n",
    "        images_summed.append(images[i])\n",
    "    else:\n",
    "        images_summed[i%numberOfImagesPerScan] += images[i]"
   ]
  },
  {
   "cell_type": "code",
   "execution_count": 55,
   "metadata": {},
   "outputs": [],
   "source": [
    "#generate and save difference images\n",
    "for i in range(1,len(images_summed)):\n",
    "    difImage = -(images_summed[i]-images_summed[i-1])\n",
    "    dif = Image.fromarray(difImage.astype(\"int32\"))\n",
    "    dif.save(folder+\"/\"+directory+\"/\"+files[i-1][:-4]+\".TIF\")"
   ]
  },
  {
   "cell_type": "code",
   "execution_count": null,
   "metadata": {},
   "outputs": [],
   "source": []
  }
 ],
 "metadata": {
  "kernelspec": {
   "display_name": "Python 3",
   "language": "python",
   "name": "python3"
  },
  "language_info": {
   "codemirror_mode": {
    "name": "ipython",
    "version": 3
   },
   "file_extension": ".py",
   "mimetype": "text/x-python",
   "name": "python",
   "nbconvert_exporter": "python",
   "pygments_lexer": "ipython3",
   "version": "3.8.3"
  }
 },
 "nbformat": 4,
 "nbformat_minor": 2
}
